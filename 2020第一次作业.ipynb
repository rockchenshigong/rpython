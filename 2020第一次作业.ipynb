{
 "cells": [
  {
   "cell_type": "markdown",
   "metadata": {},
   "source": [
    "## 第一题\n",
    "方法一："
   ]
  },
  {
   "cell_type": "code",
   "execution_count": 10,
   "metadata": {},
   "outputs": [
    {
     "name": "stdout",
     "output_type": "stream",
     "text": [
      "请输入要计算的阶乘：4\n",
      "24\n"
     ]
    }
   ],
   "source": [
    "a=1\n",
    "n=int(input(\"请输入要计算的阶乘：\"))  #python3默认为字符串\n",
    "for i in range(n):\n",
    "    a=a*(i+1)\n",
    "    i+=1\n",
    "print(a)"
   ]
  },
  {
   "cell_type": "markdown",
   "metadata": {},
   "source": [
    "方法二："
   ]
  },
  {
   "cell_type": "code",
   "execution_count": 12,
   "metadata": {},
   "outputs": [
    {
     "name": "stdout",
     "output_type": "stream",
     "text": [
      "请输入要计算的阶乘：5\n",
      "120\n"
     ]
    }
   ],
   "source": [
    "from functools import reduce\n",
    "n=int(input(\"请输入要计算的阶乘：\")) \n",
    "\n",
    "print(reduce(lambda x,y:x*y,range(1,n+1))) #reduce函数：对集合中的第 1、2 个元素进行操作，得到的结果再与第三个数据用 function \n"
   ]
  },
  {
   "cell_type": "markdown",
   "metadata": {},
   "source": [
    "补充lambda函数：\n",
    "* lambda x, y: x*y；函数输入是x和y，输出是它们的积x*y\n",
    "* lambda:None；函数没有输入参数，输出是None\n",
    "* lambda *args: sum(args); 输入是任意个数的参数，输出是它们的和(隐性要求是输入参数必须能够进行加法运算)\n",
    "* lambda **kwargs: 1；输入是任意键值对参数，输出是1"
   ]
  },
  {
   "cell_type": "markdown",
   "metadata": {},
   "source": [
    "方法三："
   ]
  },
  {
   "cell_type": "code",
   "execution_count": 13,
   "metadata": {},
   "outputs": [
    {
     "name": "stdout",
     "output_type": "stream",
     "text": [
      "请输入要计算的阶乘：6\n",
      "720\n"
     ]
    }
   ],
   "source": [
    "def factorial(n):\n",
    "    if n == 0 or n == 1:\n",
    "        return 1\n",
    "    else:\n",
    "        return (n*factorial(n-1))\n",
    "\n",
    "n=int(input(\"请输入要计算的阶乘：\")) \n",
    "a=factorial(n)\n",
    "print(a)"
   ]
  },
  {
   "cell_type": "markdown",
   "metadata": {},
   "source": [
    "# 第二题"
   ]
  },
  {
   "cell_type": "code",
   "execution_count": 22,
   "metadata": {},
   "outputs": [
    {
     "name": "stdout",
     "output_type": "stream",
     "text": [
      "请输入你的年龄：-5\n",
      "不可能啊？\n"
     ]
    }
   ],
   "source": [
    "def age(n):\n",
    "    n=int(input(\"请输入你的年龄：\"))\n",
    "    if (n<0):\n",
    "        print(\"不可能啊？\")\n",
    "        \n",
    "    elif(n<6):\n",
    "        print(\"学龄前儿童\")\n",
    "        \n",
    "    elif(n<12):\n",
    "        print(\"小学生\")\n",
    "        \n",
    "    elif(n<15):\n",
    "        print(\"初中生\")\n",
    "    \n",
    "    elif(n<18):\n",
    "        print(\"高中生\")\n",
    "        \n",
    "    elif(n<22):\n",
    "        print(\"大学生\")\n",
    "        \n",
    "    else:\n",
    "        print(\"社会人\")\n",
    "        \n",
    "age(n)"
   ]
  },
  {
   "cell_type": "code",
   "execution_count": null,
   "metadata": {},
   "outputs": [],
   "source": []
  },
  {
   "cell_type": "code",
   "execution_count": null,
   "metadata": {},
   "outputs": [],
   "source": []
  }
 ],
 "metadata": {
  "kernelspec": {
   "display_name": "Python 3",
   "language": "python",
   "name": "python3"
  },
  "language_info": {
   "codemirror_mode": {
    "name": "ipython",
    "version": 3
   },
   "file_extension": ".py",
   "mimetype": "text/x-python",
   "name": "python",
   "nbconvert_exporter": "python",
   "pygments_lexer": "ipython3",
   "version": "3.7.6"
  }
 },
 "nbformat": 4,
 "nbformat_minor": 4
}
